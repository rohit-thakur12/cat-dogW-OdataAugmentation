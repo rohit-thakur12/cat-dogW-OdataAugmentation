{
  "nbformat": 4,
  "nbformat_minor": 0,
  "metadata": {
    "colab": {
      "name": "cat&dogClassificationW/OdataAugmentation.ipynb",
      "provenance": []
    },
    "kernelspec": {
      "name": "python3",
      "display_name": "Python 3"
    },
    "accelerator": "GPU"
  },
  "cells": [
    {
      "cell_type": "code",
      "metadata": {
        "id": "iEoPkSmkpect",
        "colab_type": "code",
        "colab": {
          "base_uri": "https://localhost:8080/",
          "height": 34
        },
        "outputId": "0b4ce967-d88b-482d-cfdb-693f3ba3a4f7"
      },
      "source": [
        "# Importing libraries \n",
        "import numpy as np\n",
        "import matplotlib.pyplot as plt\n",
        "import os\n",
        "import tensorflow as tf\n",
        "%tensorflow_version 2.x\n",
        "# Importing below library to build a data input pipeline\n",
        "from tensorflow.keras.preprocessing.image import ImageDataGenerator\n",
        "#set logger\n",
        "import logging\n",
        "logger = tf.get_logger()\n",
        "logger.setLevel(logging.ERROR)"
      ],
      "execution_count": 2,
      "outputs": [
        {
          "output_type": "stream",
          "text": [
            "TensorFlow is already loaded. Please restart the runtime to change versions.\n"
          ],
          "name": "stdout"
        }
      ]
    },
    {
      "cell_type": "code",
      "metadata": {
        "id": "6uIOq-IzqkQs",
        "colab_type": "code",
        "colab": {
          "base_uri": "https://localhost:8080/",
          "height": 51
        },
        "outputId": "2bd0945e-c147-405f-ae11-7caf1aa66dfb"
      },
      "source": [
        "#Loading the data:\n",
        "URL = 'https://storage.googleapis.com/mledu-datasets/cats_and_dogs_filtered.zip'\n",
        "zip_dir = tf.keras.utils.get_file('cats_and_dogs_filterted.zip',origin=URL,extract=True)"
      ],
      "execution_count": 3,
      "outputs": [
        {
          "output_type": "stream",
          "text": [
            "Downloading data from https://storage.googleapis.com/mledu-datasets/cats_and_dogs_filtered.zip\n",
            "68608000/68606236 [==============================] - 2s 0us/step\n"
          ],
          "name": "stdout"
        }
      ]
    },
    {
      "cell_type": "code",
      "metadata": {
        "id": "IcKAuAumrhR9",
        "colab_type": "code",
        "colab": {
          "base_uri": "https://localhost:8080/",
          "height": 153
        },
        "outputId": "b94bfe02-5c2f-4ead-afcb-26f3f9467c8e"
      },
      "source": [
        "zip_dir_base = os.path.dirname(zip_dir)\n",
        "!find $zip_dir_base -type d -print"
      ],
      "execution_count": 4,
      "outputs": [
        {
          "output_type": "stream",
          "text": [
            "/root/.keras/datasets\n",
            "/root/.keras/datasets/cats_and_dogs_filtered\n",
            "/root/.keras/datasets/cats_and_dogs_filtered/validation\n",
            "/root/.keras/datasets/cats_and_dogs_filtered/validation/cats\n",
            "/root/.keras/datasets/cats_and_dogs_filtered/validation/dogs\n",
            "/root/.keras/datasets/cats_and_dogs_filtered/train\n",
            "/root/.keras/datasets/cats_and_dogs_filtered/train/cats\n",
            "/root/.keras/datasets/cats_and_dogs_filtered/train/dogs\n"
          ],
          "name": "stdout"
        }
      ]
    },
    {
      "cell_type": "code",
      "metadata": {
        "id": "QiMPMCnxrnqR",
        "colab_type": "code",
        "colab": {}
      },
      "source": [
        "base_dir = os.path.join(os.path.dirname(zip_dir),'cats_and_dogs_filtered')\n",
        "train_dir = os.path.join(base_dir,'train')\n",
        "validation_dir = os.path.join(base_dir,'validation')\n",
        "\n",
        "train_cats_dir = os.path.join(train_dir, 'cats')  # directory with our training cat pictures\n",
        "train_dogs_dir = os.path.join(train_dir, 'dogs')  # directory with our training dog pictures\n",
        "validation_cats_dir = os.path.join(validation_dir, 'cats')  # directory with our validation cat pictures\n",
        "validation_dogs_dir = os.path.join(validation_dir, 'dogs')  # directory with our validation dog pictures"
      ],
      "execution_count": 0,
      "outputs": []
    },
    {
      "cell_type": "code",
      "metadata": {
        "id": "0kPZAERxtDAn",
        "colab_type": "code",
        "colab": {
          "base_uri": "https://localhost:8080/",
          "height": 136
        },
        "outputId": "ac9378d2-cc38-4465-c750-02ea2aa99d0b"
      },
      "source": [
        "num_cats_tr = len(os.listdir(train_cats_dir))\n",
        "num_dogs_tr = len(os.listdir(train_dogs_dir))\n",
        "\n",
        "num_cats_val = len(os.listdir(validation_cats_dir))\n",
        "num_dogs_val = len(os.listdir(validation_dogs_dir))\n",
        "\n",
        "total_train = num_cats_tr + num_dogs_tr\n",
        "total_val = num_cats_val + num_dogs_val\n",
        "\n",
        "print('total training cat images:', num_cats_tr)\n",
        "print('total training dog images:', num_dogs_tr)\n",
        "\n",
        "print('total validation cat images:', num_cats_val)\n",
        "print('total validation dog images:', num_dogs_val)\n",
        "print(\"--\")\n",
        "print(\"Total training images:\", total_train)\n",
        "print(\"Total validation images:\", total_val)"
      ],
      "execution_count": 6,
      "outputs": [
        {
          "output_type": "stream",
          "text": [
            "total training cat images: 1000\n",
            "total training dog images: 1000\n",
            "total validation cat images: 500\n",
            "total validation dog images: 500\n",
            "--\n",
            "Total training images: 2000\n",
            "Total validation images: 1000\n"
          ],
          "name": "stdout"
        }
      ]
    },
    {
      "cell_type": "code",
      "metadata": {
        "id": "h7zOXxNKtUvr",
        "colab_type": "code",
        "colab": {}
      },
      "source": [
        "# Setting model parameters\n",
        "BATCH_SIZE = 100 # number of training examples to process before updating our model variables.\n",
        "IMG_SIZE = 150 #To reshape all the images to 150x150."
      ],
      "execution_count": 0,
      "outputs": []
    },
    {
      "cell_type": "code",
      "metadata": {
        "id": "kWeVVN4rt2Po",
        "colab_type": "code",
        "colab": {}
      },
      "source": [
        "# Data Preparation.\n",
        "\n",
        "train_image_generator = ImageDataGenerator(rescale=1./255) # generator for training\n",
        "validation_image_generator = ImageDataGenerator(rescale=1./255) # generator for validation"
      ],
      "execution_count": 0,
      "outputs": []
    },
    {
      "cell_type": "code",
      "metadata": {
        "id": "E8k3bFe9uvhZ",
        "colab_type": "code",
        "colab": {
          "base_uri": "https://localhost:8080/",
          "height": 51
        },
        "outputId": "a822ba05-ece3-44b4-f244-598ac57467c9"
      },
      "source": [
        "train_data_gen = train_image_generator.flow_from_directory(batch_size=BATCH_SIZE,\n",
        "                                                           directory=train_dir,\n",
        "                                                           shuffle=True,\n",
        "                                                           target_size=(IMG_SIZE,IMG_SIZE),\n",
        "                                                           class_mode='binary')\n",
        "\n",
        "val_data_gen = validation_image_generator.flow_from_directory(batch_size=BATCH_SIZE,\n",
        "                                                              directory=validation_dir,\n",
        "                                                              shuffle=False,\n",
        "                                                              target_size=(IMG_SIZE,IMG_SIZE),\n",
        "                                                              class_mode='binary')"
      ],
      "execution_count": 9,
      "outputs": [
        {
          "output_type": "stream",
          "text": [
            "Found 2000 images belonging to 2 classes.\n",
            "Found 1000 images belonging to 2 classes.\n"
          ],
          "name": "stdout"
        }
      ]
    },
    {
      "cell_type": "code",
      "metadata": {
        "id": "k4K4OY39w4be",
        "colab_type": "code",
        "colab": {}
      },
      "source": [
        "# model creation\n",
        "\n",
        "model = tf.keras.Sequential([\n",
        "         tf.keras.layers.Conv2D(32,(3,3),activation=tf.nn.relu,input_shape=(150,150,3)),\n",
        "         tf.keras.layers.MaxPooling2D(2,2),\n",
        "\n",
        "         tf.keras.layers.Conv2D(64,(3,3),activation=tf.nn.relu),\n",
        "         tf.keras.layers.MaxPooling2D(2,2),\n",
        "\n",
        "         tf.keras.layers.Conv2D(128,(3,3),activation=tf.nn.relu),\n",
        "         tf.keras.layers.MaxPooling2D(2,2),\n",
        "\n",
        "         tf.keras.layers.Conv2D(128,(3,3),activation=tf.nn.relu),\n",
        "         tf.keras.layers.MaxPooling2D(2,2),\n",
        "\n",
        "         tf.keras.layers.Flatten(),\n",
        "         tf.keras.layers.Dense(512,activation=tf.nn.relu),\n",
        "         tf.keras.layers.Dense(2,activation=tf.nn.softmax)\n",
        "])"
      ],
      "execution_count": 0,
      "outputs": []
    },
    {
      "cell_type": "code",
      "metadata": {
        "id": "H3eZSG4Cy09R",
        "colab_type": "code",
        "colab": {}
      },
      "source": [
        "model.compile(optimizer='adam',loss=tf.keras.losses.SparseCategoricalCrossentropy(from_logits=True),metrics=['accuracy'])"
      ],
      "execution_count": 0,
      "outputs": []
    },
    {
      "cell_type": "code",
      "metadata": {
        "id": "LBs9oMqNzfNO",
        "colab_type": "code",
        "colab": {
          "base_uri": "https://localhost:8080/",
          "height": 527
        },
        "outputId": "b4b68e00-fa91-4c27-f343-b44c02e20c8c"
      },
      "source": [
        "model.summary()"
      ],
      "execution_count": 18,
      "outputs": [
        {
          "output_type": "stream",
          "text": [
            "Model: \"sequential\"\n",
            "_________________________________________________________________\n",
            "Layer (type)                 Output Shape              Param #   \n",
            "=================================================================\n",
            "conv2d_1 (Conv2D)            (None, 148, 148, 32)      896       \n",
            "_________________________________________________________________\n",
            "max_pooling2d (MaxPooling2D) (None, 74, 74, 32)        0         \n",
            "_________________________________________________________________\n",
            "conv2d_2 (Conv2D)            (None, 72, 72, 64)        18496     \n",
            "_________________________________________________________________\n",
            "max_pooling2d_1 (MaxPooling2 (None, 36, 36, 64)        0         \n",
            "_________________________________________________________________\n",
            "conv2d_3 (Conv2D)            (None, 34, 34, 128)       73856     \n",
            "_________________________________________________________________\n",
            "max_pooling2d_2 (MaxPooling2 (None, 17, 17, 128)       0         \n",
            "_________________________________________________________________\n",
            "conv2d_4 (Conv2D)            (None, 15, 15, 128)       147584    \n",
            "_________________________________________________________________\n",
            "max_pooling2d_3 (MaxPooling2 (None, 7, 7, 128)         0         \n",
            "_________________________________________________________________\n",
            "flatten (Flatten)            (None, 6272)              0         \n",
            "_________________________________________________________________\n",
            "dense (Dense)                (None, 512)               3211776   \n",
            "_________________________________________________________________\n",
            "dense_1 (Dense)              (None, 2)                 1026      \n",
            "=================================================================\n",
            "Total params: 3,453,634\n",
            "Trainable params: 3,453,634\n",
            "Non-trainable params: 0\n",
            "_________________________________________________________________\n"
          ],
          "name": "stdout"
        }
      ]
    },
    {
      "cell_type": "code",
      "metadata": {
        "id": "0hzxf9bLz1Iv",
        "colab_type": "code",
        "colab": {
          "base_uri": "https://localhost:8080/",
          "height": 1000
        },
        "outputId": "c4517e16-8533-462f-a988-9e39c810baff"
      },
      "source": [
        "# Fitting the model\n",
        "EPOCHS=50\n",
        "history = model.fit_generator(train_data_gen,\n",
        "                              steps_per_epoch=int(np.ceil(total_train/float(BATCH_SIZE))),\n",
        "                              epochs=EPOCHS,\n",
        "                              validation_data=val_data_gen,\n",
        "                              validation_steps=int(np.ceil(total_val / float(BATCH_SIZE))))"
      ],
      "execution_count": 19,
      "outputs": [
        {
          "output_type": "stream",
          "text": [
            "Epoch 1/50\n",
            "19/20 [===========================>..] - ETA: 0s - loss: 0.6981 - acc: 0.5021Epoch 1/50\n",
            "20/20 [==============================] - 15s 773ms/step - loss: 0.6986 - acc: 0.4950 - val_loss: 0.6907 - val_acc: 0.5000\n",
            "Epoch 2/50\n",
            "19/20 [===========================>..] - ETA: 0s - loss: 0.6865 - acc: 0.5468Epoch 1/50\n",
            "20/20 [==============================] - 7s 365ms/step - loss: 0.6857 - acc: 0.5505 - val_loss: 0.6648 - val_acc: 0.6210\n",
            "Epoch 3/50\n",
            "19/20 [===========================>..] - ETA: 0s - loss: 0.6584 - acc: 0.6068Epoch 1/50\n",
            "20/20 [==============================] - 7s 367ms/step - loss: 0.6581 - acc: 0.6080 - val_loss: 0.6519 - val_acc: 0.6270\n",
            "Epoch 4/50\n",
            "19/20 [===========================>..] - ETA: 0s - loss: 0.6238 - acc: 0.6553Epoch 1/50\n",
            "20/20 [==============================] - 8s 385ms/step - loss: 0.6231 - acc: 0.6565 - val_loss: 0.6234 - val_acc: 0.6770\n",
            "Epoch 5/50\n",
            "19/20 [===========================>..] - ETA: 0s - loss: 0.5962 - acc: 0.6968Epoch 1/50\n",
            "20/20 [==============================] - 8s 379ms/step - loss: 0.5949 - acc: 0.6975 - val_loss: 0.5872 - val_acc: 0.7070\n",
            "Epoch 6/50\n",
            "19/20 [===========================>..] - ETA: 0s - loss: 0.5655 - acc: 0.7274Epoch 1/50\n",
            "20/20 [==============================] - 8s 384ms/step - loss: 0.5642 - acc: 0.7290 - val_loss: 0.5781 - val_acc: 0.7200\n",
            "Epoch 7/50\n",
            "19/20 [===========================>..] - ETA: 0s - loss: 0.5374 - acc: 0.7700Epoch 1/50\n",
            "20/20 [==============================] - 8s 395ms/step - loss: 0.5358 - acc: 0.7725 - val_loss: 0.5625 - val_acc: 0.7370\n",
            "Epoch 8/50\n",
            "19/20 [===========================>..] - ETA: 0s - loss: 0.5186 - acc: 0.7853Epoch 1/50\n",
            "20/20 [==============================] - 8s 385ms/step - loss: 0.5181 - acc: 0.7855 - val_loss: 0.5618 - val_acc: 0.7340\n",
            "Epoch 9/50\n",
            "19/20 [===========================>..] - ETA: 0s - loss: 0.5392 - acc: 0.7568Epoch 1/50\n",
            "20/20 [==============================] - 7s 363ms/step - loss: 0.5406 - acc: 0.7550 - val_loss: 0.5884 - val_acc: 0.7040\n",
            "Epoch 10/50\n",
            "19/20 [===========================>..] - ETA: 0s - loss: 0.4990 - acc: 0.8016Epoch 1/50\n",
            "20/20 [==============================] - 7s 370ms/step - loss: 0.4996 - acc: 0.8010 - val_loss: 0.5595 - val_acc: 0.7350\n",
            "Epoch 11/50\n",
            "19/20 [===========================>..] - ETA: 0s - loss: 0.4867 - acc: 0.8200Epoch 1/50\n",
            "20/20 [==============================] - 7s 369ms/step - loss: 0.4865 - acc: 0.8205 - val_loss: 0.5586 - val_acc: 0.7300\n",
            "Epoch 12/50\n",
            "19/20 [===========================>..] - ETA: 0s - loss: 0.4679 - acc: 0.8458Epoch 1/50\n",
            "20/20 [==============================] - 8s 378ms/step - loss: 0.4670 - acc: 0.8470 - val_loss: 0.5764 - val_acc: 0.7200\n",
            "Epoch 13/50\n",
            "19/20 [===========================>..] - ETA: 0s - loss: 0.4618 - acc: 0.8474Epoch 1/50\n",
            "20/20 [==============================] - 8s 390ms/step - loss: 0.4617 - acc: 0.8470 - val_loss: 0.5562 - val_acc: 0.7380\n",
            "Epoch 14/50\n",
            "19/20 [===========================>..] - ETA: 0s - loss: 0.4305 - acc: 0.8874Epoch 1/50\n",
            "20/20 [==============================] - 8s 384ms/step - loss: 0.4325 - acc: 0.8845 - val_loss: 0.5612 - val_acc: 0.7320\n",
            "Epoch 15/50\n",
            "19/20 [===========================>..] - ETA: 0s - loss: 0.4277 - acc: 0.8889Epoch 1/50\n",
            "20/20 [==============================] - 8s 386ms/step - loss: 0.4284 - acc: 0.8890 - val_loss: 0.5605 - val_acc: 0.7400\n",
            "Epoch 16/50\n",
            "19/20 [===========================>..] - ETA: 0s - loss: 0.4072 - acc: 0.9121Epoch 1/50\n",
            "20/20 [==============================] - 8s 378ms/step - loss: 0.4078 - acc: 0.9110 - val_loss: 0.5616 - val_acc: 0.7370\n",
            "Epoch 17/50\n",
            "19/20 [===========================>..] - ETA: 0s - loss: 0.3879 - acc: 0.9284Epoch 1/50\n",
            "20/20 [==============================] - 7s 371ms/step - loss: 0.3880 - acc: 0.9290 - val_loss: 0.5686 - val_acc: 0.7270\n",
            "Epoch 18/50\n",
            "19/20 [===========================>..] - ETA: 0s - loss: 0.3900 - acc: 0.9268Epoch 1/50\n",
            "20/20 [==============================] - 7s 375ms/step - loss: 0.3903 - acc: 0.9265 - val_loss: 0.5662 - val_acc: 0.7320\n",
            "Epoch 19/50\n",
            "19/20 [===========================>..] - ETA: 0s - loss: 0.3866 - acc: 0.9279Epoch 1/50\n",
            "20/20 [==============================] - 8s 389ms/step - loss: 0.3871 - acc: 0.9275 - val_loss: 0.5717 - val_acc: 0.7250\n",
            "Epoch 20/50\n",
            "19/20 [===========================>..] - ETA: 0s - loss: 0.3717 - acc: 0.9437Epoch 1/50\n",
            "20/20 [==============================] - 8s 387ms/step - loss: 0.3739 - acc: 0.9415 - val_loss: 0.5539 - val_acc: 0.7470\n",
            "Epoch 21/50\n",
            "19/20 [===========================>..] - ETA: 0s - loss: 0.3641 - acc: 0.9516Epoch 1/50\n",
            "20/20 [==============================] - 8s 386ms/step - loss: 0.3636 - acc: 0.9520 - val_loss: 0.5549 - val_acc: 0.7450\n",
            "Epoch 22/50\n",
            "19/20 [===========================>..] - ETA: 0s - loss: 0.3578 - acc: 0.9595Epoch 1/50\n",
            "20/20 [==============================] - 8s 377ms/step - loss: 0.3590 - acc: 0.9585 - val_loss: 0.5540 - val_acc: 0.7420\n",
            "Epoch 23/50\n",
            "19/20 [===========================>..] - ETA: 0s - loss: 0.3527 - acc: 0.9626Epoch 1/50\n",
            "20/20 [==============================] - 8s 381ms/step - loss: 0.3536 - acc: 0.9615 - val_loss: 0.5518 - val_acc: 0.7530\n",
            "Epoch 24/50\n",
            "19/20 [===========================>..] - ETA: 0s - loss: 0.3523 - acc: 0.9637Epoch 1/50\n",
            "20/20 [==============================] - 8s 386ms/step - loss: 0.3521 - acc: 0.9640 - val_loss: 0.5879 - val_acc: 0.7130\n",
            "Epoch 25/50\n",
            "19/20 [===========================>..] - ETA: 0s - loss: 0.3520 - acc: 0.9637Epoch 1/50\n",
            "20/20 [==============================] - 7s 373ms/step - loss: 0.3523 - acc: 0.9630 - val_loss: 0.5682 - val_acc: 0.7330\n",
            "Epoch 26/50\n",
            "19/20 [===========================>..] - ETA: 0s - loss: 0.3546 - acc: 0.9605Epoch 1/50\n",
            "20/20 [==============================] - 8s 378ms/step - loss: 0.3555 - acc: 0.9600 - val_loss: 0.5639 - val_acc: 0.7380\n",
            "Epoch 27/50\n",
            "19/20 [===========================>..] - ETA: 0s - loss: 0.3506 - acc: 0.9647Epoch 1/50\n",
            "20/20 [==============================] - 8s 394ms/step - loss: 0.3500 - acc: 0.9655 - val_loss: 0.5729 - val_acc: 0.7290\n",
            "Epoch 28/50\n",
            "19/20 [===========================>..] - ETA: 0s - loss: 0.3457 - acc: 0.9700Epoch 1/50\n",
            "20/20 [==============================] - 8s 388ms/step - loss: 0.3454 - acc: 0.9700 - val_loss: 0.5729 - val_acc: 0.7260\n",
            "Epoch 29/50\n",
            "19/20 [===========================>..] - ETA: 0s - loss: 0.3445 - acc: 0.9705Epoch 1/50\n",
            "20/20 [==============================] - 8s 397ms/step - loss: 0.3441 - acc: 0.9710 - val_loss: 0.5628 - val_acc: 0.7450\n",
            "Epoch 30/50\n",
            "19/20 [===========================>..] - ETA: 0s - loss: 0.3443 - acc: 0.9695Epoch 1/50\n",
            "20/20 [==============================] - 8s 386ms/step - loss: 0.3461 - acc: 0.9680 - val_loss: 0.5661 - val_acc: 0.7370\n",
            "Epoch 31/50\n",
            "19/20 [===========================>..] - ETA: 0s - loss: 0.3452 - acc: 0.9695Epoch 1/50\n",
            "20/20 [==============================] - 8s 379ms/step - loss: 0.3450 - acc: 0.9695 - val_loss: 0.5720 - val_acc: 0.7310\n",
            "Epoch 32/50\n",
            "19/20 [===========================>..] - ETA: 0s - loss: 0.3458 - acc: 0.9679Epoch 1/50\n",
            "20/20 [==============================] - 8s 380ms/step - loss: 0.3458 - acc: 0.9680 - val_loss: 0.5538 - val_acc: 0.7510\n",
            "Epoch 33/50\n",
            "19/20 [===========================>..] - ETA: 0s - loss: 0.3476 - acc: 0.9668Epoch 1/50\n",
            "20/20 [==============================] - 7s 373ms/step - loss: 0.3462 - acc: 0.9680 - val_loss: 0.5730 - val_acc: 0.7350\n",
            "Epoch 34/50\n",
            "19/20 [===========================>..] - ETA: 0s - loss: 0.3404 - acc: 0.9742Epoch 1/50\n",
            "20/20 [==============================] - 8s 391ms/step - loss: 0.3424 - acc: 0.9725 - val_loss: 0.5535 - val_acc: 0.7470\n",
            "Epoch 35/50\n",
            "19/20 [===========================>..] - ETA: 0s - loss: 0.3422 - acc: 0.9711Epoch 1/50\n",
            "20/20 [==============================] - 8s 398ms/step - loss: 0.3439 - acc: 0.9695 - val_loss: 0.5780 - val_acc: 0.7200\n",
            "Epoch 36/50\n",
            "19/20 [===========================>..] - ETA: 0s - loss: 0.3420 - acc: 0.9721Epoch 1/50\n",
            "20/20 [==============================] - 8s 385ms/step - loss: 0.3437 - acc: 0.9705 - val_loss: 0.5784 - val_acc: 0.7220\n",
            "Epoch 37/50\n",
            "19/20 [===========================>..] - ETA: 0s - loss: 0.3471 - acc: 0.9668Epoch 1/50\n",
            "20/20 [==============================] - 8s 381ms/step - loss: 0.3466 - acc: 0.9675 - val_loss: 0.5838 - val_acc: 0.7210\n",
            "Epoch 38/50\n",
            "19/20 [===========================>..] - ETA: 0s - loss: 0.3481 - acc: 0.9658Epoch 1/50\n",
            "20/20 [==============================] - 8s 376ms/step - loss: 0.3472 - acc: 0.9665 - val_loss: 0.5666 - val_acc: 0.7410\n",
            "Epoch 39/50\n",
            "19/20 [===========================>..] - ETA: 0s - loss: 0.3410 - acc: 0.9737Epoch 1/50\n",
            "20/20 [==============================] - 7s 371ms/step - loss: 0.3421 - acc: 0.9725 - val_loss: 0.5796 - val_acc: 0.7230\n",
            "Epoch 40/50\n",
            "19/20 [===========================>..] - ETA: 0s - loss: 0.3429 - acc: 0.9711Epoch 1/50\n",
            "20/20 [==============================] - 8s 380ms/step - loss: 0.3424 - acc: 0.9715 - val_loss: 0.5723 - val_acc: 0.7340\n",
            "Epoch 41/50\n",
            "19/20 [===========================>..] - ETA: 0s - loss: 0.3392 - acc: 0.9742Epoch 1/50\n",
            "20/20 [==============================] - 7s 367ms/step - loss: 0.3386 - acc: 0.9750 - val_loss: 0.5749 - val_acc: 0.7290\n",
            "Epoch 42/50\n",
            "19/20 [===========================>..] - ETA: 0s - loss: 0.3454 - acc: 0.9684Epoch 1/50\n",
            "20/20 [==============================] - 7s 370ms/step - loss: 0.3450 - acc: 0.9690 - val_loss: 0.5924 - val_acc: 0.7120\n",
            "Epoch 43/50\n",
            "19/20 [===========================>..] - ETA: 0s - loss: 0.3419 - acc: 0.9721Epoch 1/50\n",
            "20/20 [==============================] - 8s 385ms/step - loss: 0.3411 - acc: 0.9730 - val_loss: 0.5729 - val_acc: 0.7300\n",
            "Epoch 44/50\n",
            "19/20 [===========================>..] - ETA: 0s - loss: 0.3419 - acc: 0.9716Epoch 1/50\n",
            "20/20 [==============================] - 7s 369ms/step - loss: 0.3426 - acc: 0.9710 - val_loss: 0.5802 - val_acc: 0.7340\n",
            "Epoch 45/50\n",
            "19/20 [===========================>..] - ETA: 0s - loss: 0.3598 - acc: 0.9532Epoch 1/50\n",
            "20/20 [==============================] - 8s 382ms/step - loss: 0.3610 - acc: 0.9520 - val_loss: 0.5989 - val_acc: 0.7040\n",
            "Epoch 46/50\n",
            "19/20 [===========================>..] - ETA: 0s - loss: 0.3624 - acc: 0.9495Epoch 1/50\n",
            "20/20 [==============================] - 8s 384ms/step - loss: 0.3617 - acc: 0.9505 - val_loss: 0.5741 - val_acc: 0.7230\n",
            "Epoch 47/50\n",
            "19/20 [===========================>..] - ETA: 0s - loss: 0.3500 - acc: 0.9616Epoch 1/50\n",
            "20/20 [==============================] - 8s 384ms/step - loss: 0.3498 - acc: 0.9620 - val_loss: 0.5698 - val_acc: 0.7350\n",
            "Epoch 48/50\n",
            "19/20 [===========================>..] - ETA: 0s - loss: 0.3488 - acc: 0.9647Epoch 1/50\n",
            "20/20 [==============================] - 7s 371ms/step - loss: 0.3489 - acc: 0.9645 - val_loss: 0.5831 - val_acc: 0.7190\n",
            "Epoch 49/50\n",
            "19/20 [===========================>..] - ETA: 0s - loss: 0.3500 - acc: 0.9637Epoch 1/50\n",
            "20/20 [==============================] - 7s 369ms/step - loss: 0.3496 - acc: 0.9640 - val_loss: 0.5909 - val_acc: 0.7060\n",
            "Epoch 50/50\n",
            "19/20 [===========================>..] - ETA: 0s - loss: 0.3458 - acc: 0.9674Epoch 1/50\n",
            "20/20 [==============================] - 8s 380ms/step - loss: 0.3454 - acc: 0.9675 - val_loss: 0.5804 - val_acc: 0.7250\n"
          ],
          "name": "stdout"
        }
      ]
    },
    {
      "cell_type": "code",
      "metadata": {
        "id": "AcqDQ4D200VV",
        "colab_type": "code",
        "colab": {
          "base_uri": "https://localhost:8080/",
          "height": 231
        },
        "outputId": "3ddc07ed-0351-440a-f062-e013bf6baf65"
      },
      "source": [
        "# Visualizing the results\n",
        "\n",
        "acc = history.history['accuracy']\n",
        "val_acc = history.history['val_accuracy']\n",
        "\n",
        "loss = history.history['loss']\n",
        "val_loss = history.history['val_loss']\n",
        "\n",
        "epochs_range = range(EPOCHS)\n",
        "\n",
        "plt.figure(figsize=(8, 8))\n",
        "plt.subplot(1, 2, 1)\n",
        "plt.plot(epochs_range, acc, label='Training Accuracy')\n",
        "plt.plot(epochs_range, val_acc, label='Validation Accuracy')\n",
        "plt.legend(loc='lower right')\n",
        "plt.title('Training and Validation Accuracy')\n",
        "\n",
        "plt.subplot(1, 2, 2)\n",
        "plt.plot(epochs_range, loss, label='Training Loss')\n",
        "plt.plot(epochs_range, val_loss, label='Validation Loss')\n",
        "plt.legend(loc='upper right')\n",
        "plt.title('Training and Validation Loss')\n",
        "plt.savefig('./foo.png')\n",
        "plt.show()"
      ],
      "execution_count": 21,
      "outputs": [
        {
          "output_type": "error",
          "ename": "KeyError",
          "evalue": "ignored",
          "traceback": [
            "\u001b[0;31m---------------------------------------------------------------------------\u001b[0m",
            "\u001b[0;31mKeyError\u001b[0m                                  Traceback (most recent call last)",
            "\u001b[0;32m<ipython-input-21-9e55a2641a52>\u001b[0m in \u001b[0;36m<module>\u001b[0;34m()\u001b[0m\n\u001b[1;32m      1\u001b[0m \u001b[0;34m\u001b[0m\u001b[0m\n\u001b[0;32m----> 2\u001b[0;31m \u001b[0macc\u001b[0m \u001b[0;34m=\u001b[0m \u001b[0mhistory\u001b[0m\u001b[0;34m.\u001b[0m\u001b[0mhistory\u001b[0m\u001b[0;34m[\u001b[0m\u001b[0;34m'accuracy'\u001b[0m\u001b[0;34m]\u001b[0m\u001b[0;34m\u001b[0m\u001b[0;34m\u001b[0m\u001b[0m\n\u001b[0m\u001b[1;32m      3\u001b[0m \u001b[0mval_acc\u001b[0m \u001b[0;34m=\u001b[0m \u001b[0mhistory\u001b[0m\u001b[0;34m.\u001b[0m\u001b[0mhistory\u001b[0m\u001b[0;34m[\u001b[0m\u001b[0;34m'val_accuracy'\u001b[0m\u001b[0;34m]\u001b[0m\u001b[0;34m\u001b[0m\u001b[0;34m\u001b[0m\u001b[0m\n\u001b[1;32m      4\u001b[0m \u001b[0;34m\u001b[0m\u001b[0m\n\u001b[1;32m      5\u001b[0m \u001b[0mloss\u001b[0m \u001b[0;34m=\u001b[0m \u001b[0mhistory\u001b[0m\u001b[0;34m.\u001b[0m\u001b[0mhistory\u001b[0m\u001b[0;34m[\u001b[0m\u001b[0;34m'loss'\u001b[0m\u001b[0;34m]\u001b[0m\u001b[0;34m\u001b[0m\u001b[0;34m\u001b[0m\u001b[0m\n",
            "\u001b[0;31mKeyError\u001b[0m: 'accuracy'"
          ]
        }
      ]
    },
    {
      "cell_type": "code",
      "metadata": {
        "id": "lgDgURR44TXU",
        "colab_type": "code",
        "colab": {}
      },
      "source": [
        ""
      ],
      "execution_count": 0,
      "outputs": []
    }
  ]
}